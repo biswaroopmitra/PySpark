{
  "nbformat": 4,
  "nbformat_minor": 0,
  "metadata": {
    "colab": {
      "name": "ML Classification Models With A PySpark Dataframe.ipynb",
      "provenance": [],
      "authorship_tag": "ABX9TyP03V4vgx6nlhmOX+dZNgxC"
    },
    "kernelspec": {
      "name": "python3",
      "display_name": "Python 3"
    },
    "language_info": {
      "name": "python"
    }
  },
  "cells": [
    {
      "cell_type": "code",
      "source": [
        "!apt-get install openjdk-8-jdk-headless -qq > /dev/null"
      ],
      "metadata": {
        "id": "N8qSIH59Zs5E"
      },
      "execution_count": null,
      "outputs": []
    },
    {
      "cell_type": "code",
      "source": [
        "!wget -q https://downloads.apache.org/spark/spark-3.2.0/spark-3.2.0-bin-hadoop3.2.tgz"
      ],
      "metadata": {
        "id": "GiQCwYJvZw2d"
      },
      "execution_count": null,
      "outputs": []
    },
    {
      "cell_type": "code",
      "source": [
        "!tar xf spark-3.2.0-bin-hadoop3.2.tgz"
      ],
      "metadata": {
        "id": "y18T9NdpZyb3"
      },
      "execution_count": null,
      "outputs": []
    },
    {
      "cell_type": "code",
      "source": [
        "!pip install -q findspark"
      ],
      "metadata": {
        "id": "AY1BazyQZ0KU"
      },
      "execution_count": null,
      "outputs": []
    },
    {
      "cell_type": "code",
      "source": [
        "import os"
      ],
      "metadata": {
        "id": "S_iN_UY9Z2Co"
      },
      "execution_count": null,
      "outputs": []
    },
    {
      "cell_type": "code",
      "source": [
        "os.environ[\"JAVA_HOME\"] = \"/usr/lib/jvm/java-8-openjdk-amd64\""
      ],
      "metadata": {
        "id": "vXzwko5RZ3pA"
      },
      "execution_count": null,
      "outputs": []
    },
    {
      "cell_type": "code",
      "source": [
        "os.environ[\"SPARK_HOME\"] = \"/content/spark-3.2.0-bin-hadoop3.2\""
      ],
      "metadata": {
        "id": "yfcN5XacZ5Q_"
      },
      "execution_count": null,
      "outputs": []
    },
    {
      "cell_type": "code",
      "source": [
        "import findspark"
      ],
      "metadata": {
        "id": "qLd7YzdYZ6xu"
      },
      "execution_count": null,
      "outputs": []
    },
    {
      "cell_type": "code",
      "source": [
        "findspark.init()"
      ],
      "metadata": {
        "id": "MJW_FEceZ8GP"
      },
      "execution_count": null,
      "outputs": []
    },
    {
      "cell_type": "code",
      "source": [
        "!pip install pyspark"
      ],
      "metadata": {
        "colab": {
          "base_uri": "https://localhost:8080/"
        },
        "id": "8JLlX8zNog9-",
        "outputId": "0943d364-1d52-4616-a409-15d9cd78a1d8"
      },
      "execution_count": null,
      "outputs": [
        {
          "output_type": "stream",
          "name": "stdout",
          "text": [
            "Collecting pyspark\n",
            "  Downloading pyspark-3.2.0.tar.gz (281.3 MB)\n",
            "\u001b[K     |████████████████████████████████| 281.3 MB 43 kB/s \n",
            "\u001b[?25hCollecting py4j==0.10.9.2\n",
            "  Downloading py4j-0.10.9.2-py2.py3-none-any.whl (198 kB)\n",
            "\u001b[K     |████████████████████████████████| 198 kB 44.5 MB/s \n",
            "\u001b[?25hBuilding wheels for collected packages: pyspark\n",
            "  Building wheel for pyspark (setup.py) ... \u001b[?25l\u001b[?25hdone\n",
            "  Created wheel for pyspark: filename=pyspark-3.2.0-py2.py3-none-any.whl size=281805912 sha256=02f80989716d6c3396e76ec311d5a9c63ac8135bae4500a8ae19e81ee61d0b3b\n",
            "  Stored in directory: /root/.cache/pip/wheels/0b/de/d2/9be5d59d7331c6c2a7c1b6d1a4f463ce107332b1ecd4e80718\n",
            "Successfully built pyspark\n",
            "Installing collected packages: py4j, pyspark\n",
            "Successfully installed py4j-0.10.9.2 pyspark-3.2.0\n"
          ]
        }
      ]
    },
    {
      "cell_type": "code",
      "metadata": {
        "colab": {
          "base_uri": "https://localhost:8080/"
        },
        "id": "2MP0OJbuwNMX",
        "outputId": "bc2c7cb4-b8b6-4980-9f7d-a4d059a0a1ca"
      },
      "source": [
        "from google.colab import drive\n",
        "drive.mount ('/content/drive/')"
      ],
      "execution_count": null,
      "outputs": [
        {
          "output_type": "stream",
          "name": "stdout",
          "text": [
            "Mounted at /content/drive/\n"
          ]
        }
      ]
    },
    {
      "cell_type": "code",
      "metadata": {
        "id": "B_R2_Q2zzYbv"
      },
      "source": [
        "from pyspark.sql import SparkSession\n",
        "from pyspark.sql.functions import isnan, when, count, col\n",
        "import matplotlib.pyplot as plt\n",
        "import seaborn as sns\n",
        "from pyspark.ml.linalg import Vectors\n",
        "from pyspark.ml.feature import VectorAssembler\n",
        "from pyspark.ml.classification import DecisionTreeClassifier, RandomForestClassifier\n",
        "from pyspark.ml.evaluation import MulticlassClassificationEvaluator"
      ],
      "execution_count": null,
      "outputs": []
    },
    {
      "cell_type": "code",
      "metadata": {
        "id": "t2rutwFDN8Xf"
      },
      "source": [
        "dataset = '/content/drive/MyDrive/Colab Notebooks/Vehicle Loan Repayment Dataset/Default_Fin.csv'"
      ],
      "execution_count": null,
      "outputs": []
    },
    {
      "cell_type": "code",
      "metadata": {
        "id": "YZwhPngAPZrS"
      },
      "source": [
        "spark = SparkSession.builder.appName('LoanDefault').getOrCreate()"
      ],
      "execution_count": null,
      "outputs": []
    },
    {
      "cell_type": "code",
      "metadata": {
        "id": "yDOd8qQ5QRTd"
      },
      "source": [
        "loan = spark.read.csv(dataset, header=True, inferSchema=True)"
      ],
      "execution_count": null,
      "outputs": []
    },
    {
      "cell_type": "code",
      "source": [
        "loan.show()"
      ],
      "metadata": {
        "id": "NnAdYPFgMdHx",
        "colab": {
          "base_uri": "https://localhost:8080/"
        },
        "outputId": "9315961f-0af7-4f65-a3fe-bebf6f018173"
      },
      "execution_count": null,
      "outputs": [
        {
          "output_type": "stream",
          "name": "stdout",
          "text": [
            "+-----+--------+------------+-------------+----------+\n",
            "|Index|Employed|Bank Balance|Annual Salary|Defaulted?|\n",
            "+-----+--------+------------+-------------+----------+\n",
            "|    1|       1|     8754.36|    532339.56|         0|\n",
            "|    2|       0|     9806.16|    145273.56|         0|\n",
            "|    3|       1|     12882.6|    381205.68|         0|\n",
            "|    4|       1|      6351.0|    428453.88|         0|\n",
            "|    5|       1|     9427.92|     461562.0|         0|\n",
            "|    6|       0|    11035.08|     89898.72|         0|\n",
            "|    7|       1|     9906.12|    298862.76|         0|\n",
            "|    8|       0|     9704.04|     211205.4|         0|\n",
            "|    9|       1|    13932.72|    449622.36|         0|\n",
            "|   10|       1|         0.0|    351303.24|         0|\n",
            "|   11|       0|         0.0|    262452.84|         0|\n",
            "|   12|       0|    14646.96|    159222.72|         0|\n",
            "|   13|       1|      2844.6|     339020.4|         0|\n",
            "|   14|       1|     7280.88|    539934.72|         0|\n",
            "|   15|       1|    13355.64|    285722.04|         0|\n",
            "|   16|       1|     3434.76|    540508.92|         0|\n",
            "|   17|       1|         0.0|    603183.72|         0|\n",
            "|   18|       0|     6330.48|    211638.48|         0|\n",
            "|   19|       1|     5831.28|    738793.32|         0|\n",
            "|   20|       1|    13140.84|    317575.56|         0|\n",
            "+-----+--------+------------+-------------+----------+\n",
            "only showing top 20 rows\n",
            "\n"
          ]
        }
      ]
    },
    {
      "cell_type": "code",
      "source": [
        "loan = loan.withColumnRenamed('Defaulted?', 'Defaulted')\n",
        "loan.show()"
      ],
      "metadata": {
        "id": "SRA2BwIrMhvp",
        "colab": {
          "base_uri": "https://localhost:8080/"
        },
        "outputId": "167549ae-7955-423a-c01a-6ee317706f8a"
      },
      "execution_count": null,
      "outputs": [
        {
          "output_type": "stream",
          "name": "stdout",
          "text": [
            "+-----+--------+------------+-------------+---------+\n",
            "|Index|Employed|Bank Balance|Annual Salary|Defaulted|\n",
            "+-----+--------+------------+-------------+---------+\n",
            "|    1|       1|     8754.36|    532339.56|        0|\n",
            "|    2|       0|     9806.16|    145273.56|        0|\n",
            "|    3|       1|     12882.6|    381205.68|        0|\n",
            "|    4|       1|      6351.0|    428453.88|        0|\n",
            "|    5|       1|     9427.92|     461562.0|        0|\n",
            "|    6|       0|    11035.08|     89898.72|        0|\n",
            "|    7|       1|     9906.12|    298862.76|        0|\n",
            "|    8|       0|     9704.04|     211205.4|        0|\n",
            "|    9|       1|    13932.72|    449622.36|        0|\n",
            "|   10|       1|         0.0|    351303.24|        0|\n",
            "|   11|       0|         0.0|    262452.84|        0|\n",
            "|   12|       0|    14646.96|    159222.72|        0|\n",
            "|   13|       1|      2844.6|     339020.4|        0|\n",
            "|   14|       1|     7280.88|    539934.72|        0|\n",
            "|   15|       1|    13355.64|    285722.04|        0|\n",
            "|   16|       1|     3434.76|    540508.92|        0|\n",
            "|   17|       1|         0.0|    603183.72|        0|\n",
            "|   18|       0|     6330.48|    211638.48|        0|\n",
            "|   19|       1|     5831.28|    738793.32|        0|\n",
            "|   20|       1|    13140.84|    317575.56|        0|\n",
            "+-----+--------+------------+-------------+---------+\n",
            "only showing top 20 rows\n",
            "\n"
          ]
        }
      ]
    },
    {
      "cell_type": "code",
      "source": [
        "#Finding missing values\n",
        "\n",
        "loan.select([count(when(isnan(i) | col(i).isNull(), i).alias(i)) for i in loan.columns]).show()"
      ],
      "metadata": {
        "id": "atNvIiI5i2yl",
        "colab": {
          "base_uri": "https://localhost:8080/"
        },
        "outputId": "aa99d71a-1bdb-43e7-905b-96f5dc3a8eaf"
      },
      "execution_count": null,
      "outputs": [
        {
          "output_type": "stream",
          "name": "stdout",
          "text": [
            "+--------------------------------------------------------------------------+--------------------------------------------------------------------------------------+--------------------------------------------------------------------------------------------------------+------------------------------------------------------------------------------------------------------------+------------------------------------------------------------------------------------------+\n",
            "|count(CASE WHEN (isnan(Index) OR (Index IS NULL)) THEN Index END AS Index)|count(CASE WHEN (isnan(Employed) OR (Employed IS NULL)) THEN Employed END AS Employed)|count(CASE WHEN (isnan(Bank Balance) OR (Bank Balance IS NULL)) THEN Bank Balance END AS `Bank Balance`)|count(CASE WHEN (isnan(Annual Salary) OR (Annual Salary IS NULL)) THEN Annual Salary END AS `Annual Salary`)|count(CASE WHEN (isnan(Defaulted) OR (Defaulted IS NULL)) THEN Defaulted END AS Defaulted)|\n",
            "+--------------------------------------------------------------------------+--------------------------------------------------------------------------------------+--------------------------------------------------------------------------------------------------------+------------------------------------------------------------------------------------------------------------+------------------------------------------------------------------------------------------+\n",
            "|                                                                         0|                                                                                     0|                                                                                                       0|                                                                                                           0|                                                                                         0|\n",
            "+--------------------------------------------------------------------------+--------------------------------------------------------------------------------------+--------------------------------------------------------------------------------------------------------+------------------------------------------------------------------------------------------------------------+------------------------------------------------------------------------------------------+\n",
            "\n"
          ]
        }
      ]
    },
    {
      "cell_type": "code",
      "source": [
        "#Taking a sample of the pyspark dataframe and converting it to a pandas dataframe to draw a heatmap with seaborn.\n",
        "\n",
        "loan_sample = loan.select(['Employed', 'Bank Balance', 'Annual Salary', 'Defaulted']).sample(False, 0.5, 42)\n",
        "loan_pandas = loan_sample.toPandas()\n",
        "loan_pandas"
      ],
      "metadata": {
        "id": "Qhb2ux9XRMmw",
        "colab": {
          "base_uri": "https://localhost:8080/",
          "height": 423
        },
        "outputId": "ca309c95-2024-47de-c86d-6fadfd451b03"
      },
      "execution_count": null,
      "outputs": [
        {
          "output_type": "execute_result",
          "data": {
            "text/html": [
              "<div>\n",
              "<style scoped>\n",
              "    .dataframe tbody tr th:only-of-type {\n",
              "        vertical-align: middle;\n",
              "    }\n",
              "\n",
              "    .dataframe tbody tr th {\n",
              "        vertical-align: top;\n",
              "    }\n",
              "\n",
              "    .dataframe thead th {\n",
              "        text-align: right;\n",
              "    }\n",
              "</style>\n",
              "<table border=\"1\" class=\"dataframe\">\n",
              "  <thead>\n",
              "    <tr style=\"text-align: right;\">\n",
              "      <th></th>\n",
              "      <th>Employed</th>\n",
              "      <th>Bank Balance</th>\n",
              "      <th>Annual Salary</th>\n",
              "      <th>Defaulted</th>\n",
              "    </tr>\n",
              "  </thead>\n",
              "  <tbody>\n",
              "    <tr>\n",
              "      <th>0</th>\n",
              "      <td>1</td>\n",
              "      <td>6351.00</td>\n",
              "      <td>428453.88</td>\n",
              "      <td>0</td>\n",
              "    </tr>\n",
              "    <tr>\n",
              "      <th>1</th>\n",
              "      <td>0</td>\n",
              "      <td>9704.04</td>\n",
              "      <td>211205.40</td>\n",
              "      <td>0</td>\n",
              "    </tr>\n",
              "    <tr>\n",
              "      <th>2</th>\n",
              "      <td>0</td>\n",
              "      <td>0.00</td>\n",
              "      <td>262452.84</td>\n",
              "      <td>0</td>\n",
              "    </tr>\n",
              "    <tr>\n",
              "      <th>3</th>\n",
              "      <td>1</td>\n",
              "      <td>2844.60</td>\n",
              "      <td>339020.40</td>\n",
              "      <td>0</td>\n",
              "    </tr>\n",
              "    <tr>\n",
              "      <th>4</th>\n",
              "      <td>1</td>\n",
              "      <td>0.00</td>\n",
              "      <td>603183.72</td>\n",
              "      <td>0</td>\n",
              "    </tr>\n",
              "    <tr>\n",
              "      <th>...</th>\n",
              "      <td>...</td>\n",
              "      <td>...</td>\n",
              "      <td>...</td>\n",
              "      <td>...</td>\n",
              "    </tr>\n",
              "    <tr>\n",
              "      <th>5072</th>\n",
              "      <td>1</td>\n",
              "      <td>13339.80</td>\n",
              "      <td>545888.16</td>\n",
              "      <td>0</td>\n",
              "    </tr>\n",
              "    <tr>\n",
              "      <th>5073</th>\n",
              "      <td>1</td>\n",
              "      <td>11266.08</td>\n",
              "      <td>679601.40</td>\n",
              "      <td>0</td>\n",
              "    </tr>\n",
              "    <tr>\n",
              "      <th>5074</th>\n",
              "      <td>0</td>\n",
              "      <td>2068.92</td>\n",
              "      <td>179471.28</td>\n",
              "      <td>0</td>\n",
              "    </tr>\n",
              "    <tr>\n",
              "      <th>5075</th>\n",
              "      <td>1</td>\n",
              "      <td>18828.12</td>\n",
              "      <td>440029.32</td>\n",
              "      <td>0</td>\n",
              "    </tr>\n",
              "    <tr>\n",
              "      <th>5076</th>\n",
              "      <td>0</td>\n",
              "      <td>2411.04</td>\n",
              "      <td>202355.40</td>\n",
              "      <td>0</td>\n",
              "    </tr>\n",
              "  </tbody>\n",
              "</table>\n",
              "<p>5077 rows × 4 columns</p>\n",
              "</div>"
            ],
            "text/plain": [
              "      Employed  Bank Balance  Annual Salary  Defaulted\n",
              "0            1       6351.00      428453.88          0\n",
              "1            0       9704.04      211205.40          0\n",
              "2            0          0.00      262452.84          0\n",
              "3            1       2844.60      339020.40          0\n",
              "4            1          0.00      603183.72          0\n",
              "...        ...           ...            ...        ...\n",
              "5072         1      13339.80      545888.16          0\n",
              "5073         1      11266.08      679601.40          0\n",
              "5074         0       2068.92      179471.28          0\n",
              "5075         1      18828.12      440029.32          0\n",
              "5076         0       2411.04      202355.40          0\n",
              "\n",
              "[5077 rows x 4 columns]"
            ]
          },
          "metadata": {},
          "execution_count": 19
        }
      ]
    },
    {
      "cell_type": "code",
      "source": [
        "correlation = loan_pandas.corr()"
      ],
      "metadata": {
        "id": "iffOCEf4oFoB"
      },
      "execution_count": null,
      "outputs": []
    },
    {
      "cell_type": "code",
      "source": [
        "plt.figure(figsize=(12, 10))\n",
        "sns.heatmap(correlation, xticklabels=correlation.columns, yticklabels=correlation.columns, annot=True, cmap='CMRmap', center=0)\n",
        "plt.show()"
      ],
      "metadata": {
        "id": "gjkk0iaLnk4g",
        "colab": {
          "base_uri": "https://localhost:8080/",
          "height": 596
        },
        "outputId": "bba271cd-ff6d-4638-b2e1-2385225ab15e"
      },
      "execution_count": null,
      "outputs": [
        {
          "output_type": "display_data",
          "data": {
            "image/png": "[encoded data removed]",
            "text/plain": [
              "<Figure size 864x720 with 2 Axes>"
            ]
          },
          "metadata": {
            "needs_background": "light"
          }
        }
      ]
    },
    {
      "cell_type": "code",
      "source": [
        "# Back to the pyspark dataframe. The features 'Employed' and 'Annual Salary' have a correlation of 0.76. Therefore, 'Employed' can be dropped.\n",
        "\n",
        "loan = loan.drop('Employed', 'Index')\n",
        "loan.show()"
      ],
      "metadata": {
        "id": "Vx6_O_86pBgV",
        "colab": {
          "base_uri": "https://localhost:8080/"
        },
        "outputId": "2326a048-8022-47d6-a55d-b750bd449a0a"
      },
      "execution_count": null,
      "outputs": [
        {
          "output_type": "stream",
          "name": "stdout",
          "text": [
            "+------------+-------------+---------+\n",
            "|Bank Balance|Annual Salary|Defaulted|\n",
            "+------------+-------------+---------+\n",
            "|     8754.36|    532339.56|        0|\n",
            "|     9806.16|    145273.56|        0|\n",
            "|     12882.6|    381205.68|        0|\n",
            "|      6351.0|    428453.88|        0|\n",
            "|     9427.92|     461562.0|        0|\n",
            "|    11035.08|     89898.72|        0|\n",
            "|     9906.12|    298862.76|        0|\n",
            "|     9704.04|     211205.4|        0|\n",
            "|    13932.72|    449622.36|        0|\n",
            "|         0.0|    351303.24|        0|\n",
            "|         0.0|    262452.84|        0|\n",
            "|    14646.96|    159222.72|        0|\n",
            "|      2844.6|     339020.4|        0|\n",
            "|     7280.88|    539934.72|        0|\n",
            "|    13355.64|    285722.04|        0|\n",
            "|     3434.76|    540508.92|        0|\n",
            "|         0.0|    603183.72|        0|\n",
            "|     6330.48|    211638.48|        0|\n",
            "|     5831.28|    738793.32|        0|\n",
            "|    13140.84|    317575.56|        0|\n",
            "+------------+-------------+---------+\n",
            "only showing top 20 rows\n",
            "\n"
          ]
        }
      ]
    },
    {
      "cell_type": "code",
      "source": [
        "vectors_assembled = VectorAssembler(inputCols=['Bank Balance', 'Annual Salary'], outputCol='features')"
      ],
      "metadata": {
        "id": "1xtItPQBdRzB"
      },
      "execution_count": null,
      "outputs": []
    },
    {
      "cell_type": "code",
      "source": [
        "transformed_loan = vectors_assembled.transform(loan)"
      ],
      "metadata": {
        "id": "ZRdFhXxEz-da"
      },
      "execution_count": null,
      "outputs": []
    },
    {
      "cell_type": "code",
      "source": [
        "final_loan = transformed_loan.select('features', 'Defaulted')"
      ],
      "metadata": {
        "id": "NleBkTDGzI_w"
      },
      "execution_count": null,
      "outputs": []
    },
    {
      "cell_type": "code",
      "source": [
        "train, test = final_loan.randomSplit([0.8, 0.2], seed=42)"
      ],
      "metadata": {
        "id": "K5YxC9tElRtq"
      },
      "execution_count": null,
      "outputs": []
    },
    {
      "cell_type": "code",
      "source": [
        "dt = DecisionTreeClassifier(labelCol='Defaulted', featuresCol='features')\n",
        "model_dt = dt.fit(train)"
      ],
      "metadata": {
        "id": "oMIxR3Z42E3C"
      },
      "execution_count": null,
      "outputs": []
    },
    {
      "cell_type": "code",
      "source": [
        "pred_dectree = model_dt.transform(test)"
      ],
      "metadata": {
        "id": "4CDAVTMs3rLX"
      },
      "execution_count": null,
      "outputs": []
    },
    {
      "cell_type": "code",
      "source": [
        "rf = RandomForestClassifier(labelCol='Defaulted', featuresCol='features')\n",
        "model_rf = rf.fit(train)"
      ],
      "metadata": {
        "id": "OFUZwceE3IMs"
      },
      "execution_count": null,
      "outputs": []
    },
    {
      "cell_type": "code",
      "source": [
        "pred_rf = model_rf.transform(test)"
      ],
      "metadata": {
        "id": "0KkMTvBP4NPc"
      },
      "execution_count": null,
      "outputs": []
    },
    {
      "cell_type": "code",
      "source": [
        "score = MulticlassClassificationEvaluator(labelCol='Defaulted', predictionCol='prediction', metricName='accuracy')"
      ],
      "metadata": {
        "id": "ghYmEUZz41Nw"
      },
      "execution_count": null,
      "outputs": []
    },
    {
      "cell_type": "code",
      "source": [
        "dt_score = score.evaluate(pred_dectree)\n",
        "dt_score"
      ],
      "metadata": {
        "id": "d5x4Xobo6ejz",
        "colab": {
          "base_uri": "https://localhost:8080/"
        },
        "outputId": "569a18e6-47d7-4b77-d0d7-f5030329b7ef"
      },
      "execution_count": null,
      "outputs": [
        {
          "output_type": "execute_result",
          "data": {
            "text/plain": [
              "0.9692868297761582"
            ]
          },
          "metadata": {},
          "execution_count": 32
        }
      ]
    },
    {
      "cell_type": "code",
      "source": [
        "rf_score = score.evaluate(pred_rf)\n",
        "rf_score"
      ],
      "metadata": {
        "id": "M3daLsJZ7FR5",
        "colab": {
          "base_uri": "https://localhost:8080/"
        },
        "outputId": "56065735-d342-4cb9-c0c7-8612c29b51c0"
      },
      "execution_count": null,
      "outputs": [
        {
          "output_type": "execute_result",
          "data": {
            "text/plain": [
              "0.967725143154607"
            ]
          },
          "metadata": {},
          "execution_count": 33
        }
      ]
    }
  ]
}